{
 "cells": [
  {
   "cell_type": "code",
   "execution_count": 1,
   "id": "37c4dbb1",
   "metadata": {},
   "outputs": [],
   "source": [
    "import pandas as pd\n",
    "import numpy as np"
   ]
  },
  {
   "cell_type": "code",
   "execution_count": 2,
   "id": "5fb2f102",
   "metadata": {},
   "outputs": [],
   "source": [
    "df = pd.read_csv('voice_train.csv')\n",
    "df_test = pd.read_csv('voice_test.csv')"
   ]
  },
  {
   "cell_type": "code",
   "execution_count": 6,
   "id": "2357456e",
   "metadata": {},
   "outputs": [
    {
     "name": "stdout",
     "output_type": "stream",
     "text": [
      "<class 'pandas.core.frame.DataFrame'>\n",
      "RangeIndex: 2851 entries, 0 to 2850\n",
      "Data columns (total 22 columns):\n",
      " #   Column    Non-Null Count  Dtype  \n",
      "---  ------    --------------  -----  \n",
      " 0   Id        2851 non-null   int64  \n",
      " 1   meanfreq  2851 non-null   float64\n",
      " 2   sd        2851 non-null   float64\n",
      " 3   median    2851 non-null   float64\n",
      " 4   Q25       2851 non-null   float64\n",
      " 5   Q75       2851 non-null   float64\n",
      " 6   IQR       2851 non-null   float64\n",
      " 7   skew      2851 non-null   float64\n",
      " 8   kurt      2851 non-null   float64\n",
      " 9   sp.ent    2851 non-null   float64\n",
      " 10  sfm       2851 non-null   float64\n",
      " 11  mode      2851 non-null   float64\n",
      " 12  centroid  2851 non-null   float64\n",
      " 13  meanfun   2851 non-null   float64\n",
      " 14  minfun    2851 non-null   float64\n",
      " 15  maxfun    2851 non-null   float64\n",
      " 16  meandom   2851 non-null   float64\n",
      " 17  mindom    2851 non-null   float64\n",
      " 18  maxdom    2851 non-null   float64\n",
      " 19  dfrange   2851 non-null   float64\n",
      " 20  modindx   2851 non-null   float64\n",
      " 21  label     2851 non-null   object \n",
      "dtypes: float64(20), int64(1), object(1)\n",
      "memory usage: 490.1+ KB\n"
     ]
    }
   ],
   "source": [
    "df.info()"
   ]
  },
  {
   "cell_type": "code",
   "execution_count": 7,
   "id": "90a3a35a",
   "metadata": {
    "scrolled": true
   },
   "outputs": [
    {
     "data": {
      "text/plain": [
       "female    1432\n",
       "male      1419\n",
       "Name: label, dtype: int64"
      ]
     },
     "execution_count": 7,
     "metadata": {},
     "output_type": "execute_result"
    }
   ],
   "source": [
    "df['label'].value_counts()"
   ]
  },
  {
   "cell_type": "code",
   "execution_count": 9,
   "id": "b6d53907",
   "metadata": {},
   "outputs": [
    {
     "data": {
      "text/plain": [
       "False    2851\n",
       "dtype: int64"
      ]
     },
     "execution_count": 9,
     "metadata": {},
     "output_type": "execute_result"
    }
   ],
   "source": [
    "df.duplicated().value_counts()"
   ]
  },
  {
   "cell_type": "code",
   "execution_count": 16,
   "id": "3ee15b84",
   "metadata": {},
   "outputs": [
    {
     "data": {
      "text/plain": [
       "Index(['Id', 'meanfreq', 'sd', 'median', 'Q25', 'Q75', 'IQR', 'skew', 'kurt',\n",
       "       'sp.ent', 'sfm', 'mode', 'centroid', 'meanfun', 'minfun', 'maxfun',\n",
       "       'meandom', 'mindom', 'maxdom', 'dfrange', 'modindx', 'label'],\n",
       "      dtype='object')"
      ]
     },
     "execution_count": 16,
     "metadata": {},
     "output_type": "execute_result"
    }
   ],
   "source": [
    "df.columns"
   ]
  },
  {
   "cell_type": "code",
   "execution_count": 19,
   "id": "9aa906c1",
   "metadata": {},
   "outputs": [
    {
     "data": {
      "text/plain": [
       "0    1432\n",
       "1    1419\n",
       "Name: label, dtype: int64"
      ]
     },
     "execution_count": 19,
     "metadata": {},
     "output_type": "execute_result"
    }
   ],
   "source": [
    "df['label'].value_counts()"
   ]
  },
  {
   "cell_type": "code",
   "execution_count": 18,
   "id": "b942366f",
   "metadata": {},
   "outputs": [],
   "source": [
    "df['label'].replace('female',0, inplace=True)\n",
    "df['label'].replace('male',1, inplace=True)"
   ]
  },
  {
   "cell_type": "code",
   "execution_count": 29,
   "id": "572feb44",
   "metadata": {},
   "outputs": [
    {
     "data": {
      "text/plain": [
       "label       1.000000\n",
       "IQR         0.609044\n",
       "sp.ent      0.484417\n",
       "sd          0.467738\n",
       "sfm         0.347043\n",
       "kurt        0.083386\n",
       "Q75         0.073227\n",
       "modindx     0.032219\n",
       "skew        0.029698\n",
       "minfun     -0.125165\n",
       "maxfun     -0.164238\n",
       "mode       -0.165029\n",
       "meandom    -0.185873\n",
       "dfrange    -0.187508\n",
       "mindom     -0.189614\n",
       "maxdom     -0.190841\n",
       "median     -0.271785\n",
       "centroid   -0.324928\n",
       "meanfreq   -0.324928\n",
       "Q25        -0.499747\n",
       "meanfun    -0.831180\n",
       "Id         -0.864980\n",
       "Name: label, dtype: float64"
      ]
     },
     "execution_count": 29,
     "metadata": {},
     "output_type": "execute_result"
    }
   ],
   "source": [
    "df.corr()['label'].sort_values(ascending=False)"
   ]
  },
  {
   "cell_type": "code",
   "execution_count": null,
   "id": "8b575a1f",
   "metadata": {},
   "outputs": [],
   "source": []
  },
  {
   "cell_type": "code",
   "execution_count": null,
   "id": "f9cbe8f2",
   "metadata": {},
   "outputs": [],
   "source": []
  },
  {
   "cell_type": "code",
   "execution_count": null,
   "id": "9daad4d1",
   "metadata": {},
   "outputs": [],
   "source": []
  },
  {
   "cell_type": "code",
   "execution_count": 30,
   "id": "558080c5",
   "metadata": {},
   "outputs": [
    {
     "data": {
      "text/html": [
       "<div>\n",
       "<style scoped>\n",
       "    .dataframe tbody tr th:only-of-type {\n",
       "        vertical-align: middle;\n",
       "    }\n",
       "\n",
       "    .dataframe tbody tr th {\n",
       "        vertical-align: top;\n",
       "    }\n",
       "\n",
       "    .dataframe thead th {\n",
       "        text-align: right;\n",
       "    }\n",
       "</style>\n",
       "<table border=\"1\" class=\"dataframe\">\n",
       "  <thead>\n",
       "    <tr style=\"text-align: right;\">\n",
       "      <th></th>\n",
       "      <th>Id</th>\n",
       "      <th>meanfreq</th>\n",
       "      <th>sd</th>\n",
       "      <th>median</th>\n",
       "      <th>Q25</th>\n",
       "      <th>Q75</th>\n",
       "      <th>IQR</th>\n",
       "      <th>skew</th>\n",
       "      <th>kurt</th>\n",
       "      <th>sp.ent</th>\n",
       "      <th>...</th>\n",
       "      <th>mode</th>\n",
       "      <th>centroid</th>\n",
       "      <th>meanfun</th>\n",
       "      <th>minfun</th>\n",
       "      <th>maxfun</th>\n",
       "      <th>meandom</th>\n",
       "      <th>mindom</th>\n",
       "      <th>maxdom</th>\n",
       "      <th>dfrange</th>\n",
       "      <th>modindx</th>\n",
       "    </tr>\n",
       "  </thead>\n",
       "  <tbody>\n",
       "    <tr>\n",
       "      <th>0</th>\n",
       "      <td>2148</td>\n",
       "      <td>0.186833</td>\n",
       "      <td>0.027472</td>\n",
       "      <td>0.184325</td>\n",
       "      <td>0.173955</td>\n",
       "      <td>0.204731</td>\n",
       "      <td>0.030777</td>\n",
       "      <td>2.655225</td>\n",
       "      <td>10.565846</td>\n",
       "      <td>0.821812</td>\n",
       "      <td>...</td>\n",
       "      <td>0.180645</td>\n",
       "      <td>0.186833</td>\n",
       "      <td>0.172790</td>\n",
       "      <td>0.023495</td>\n",
       "      <td>0.271186</td>\n",
       "      <td>0.178571</td>\n",
       "      <td>0.007812</td>\n",
       "      <td>0.226562</td>\n",
       "      <td>0.218750</td>\n",
       "      <td>0.108929</td>\n",
       "    </tr>\n",
       "    <tr>\n",
       "      <th>1</th>\n",
       "      <td>1124</td>\n",
       "      <td>0.188879</td>\n",
       "      <td>0.060316</td>\n",
       "      <td>0.195537</td>\n",
       "      <td>0.138072</td>\n",
       "      <td>0.242975</td>\n",
       "      <td>0.104904</td>\n",
       "      <td>1.497393</td>\n",
       "      <td>5.037085</td>\n",
       "      <td>0.909425</td>\n",
       "      <td>...</td>\n",
       "      <td>0.140386</td>\n",
       "      <td>0.188879</td>\n",
       "      <td>0.133092</td>\n",
       "      <td>0.050847</td>\n",
       "      <td>0.272727</td>\n",
       "      <td>0.855938</td>\n",
       "      <td>0.023438</td>\n",
       "      <td>8.718750</td>\n",
       "      <td>8.695312</td>\n",
       "      <td>0.098712</td>\n",
       "    </tr>\n",
       "    <tr>\n",
       "      <th>2</th>\n",
       "      <td>170</td>\n",
       "      <td>0.150705</td>\n",
       "      <td>0.087127</td>\n",
       "      <td>0.174299</td>\n",
       "      <td>0.069666</td>\n",
       "      <td>0.226082</td>\n",
       "      <td>0.156416</td>\n",
       "      <td>2.603951</td>\n",
       "      <td>22.328899</td>\n",
       "      <td>0.969287</td>\n",
       "      <td>...</td>\n",
       "      <td>0.050181</td>\n",
       "      <td>0.150705</td>\n",
       "      <td>0.109992</td>\n",
       "      <td>0.017260</td>\n",
       "      <td>0.266667</td>\n",
       "      <td>1.240954</td>\n",
       "      <td>0.007812</td>\n",
       "      <td>5.562500</td>\n",
       "      <td>5.554688</td>\n",
       "      <td>0.332396</td>\n",
       "    </tr>\n",
       "    <tr>\n",
       "      <th>3</th>\n",
       "      <td>3158</td>\n",
       "      <td>0.183667</td>\n",
       "      <td>0.040607</td>\n",
       "      <td>0.182534</td>\n",
       "      <td>0.156480</td>\n",
       "      <td>0.207646</td>\n",
       "      <td>0.051166</td>\n",
       "      <td>2.054138</td>\n",
       "      <td>7.483019</td>\n",
       "      <td>0.898138</td>\n",
       "      <td>...</td>\n",
       "      <td>0.177040</td>\n",
       "      <td>0.183667</td>\n",
       "      <td>0.149237</td>\n",
       "      <td>0.018648</td>\n",
       "      <td>0.262295</td>\n",
       "      <td>0.550312</td>\n",
       "      <td>0.007812</td>\n",
       "      <td>3.421875</td>\n",
       "      <td>3.414062</td>\n",
       "      <td>0.166503</td>\n",
       "    </tr>\n",
       "    <tr>\n",
       "      <th>4</th>\n",
       "      <td>2229</td>\n",
       "      <td>0.205159</td>\n",
       "      <td>0.039543</td>\n",
       "      <td>0.210805</td>\n",
       "      <td>0.186667</td>\n",
       "      <td>0.228908</td>\n",
       "      <td>0.042241</td>\n",
       "      <td>2.099683</td>\n",
       "      <td>7.562209</td>\n",
       "      <td>0.876002</td>\n",
       "      <td>...</td>\n",
       "      <td>0.224885</td>\n",
       "      <td>0.205159</td>\n",
       "      <td>0.154736</td>\n",
       "      <td>0.047105</td>\n",
       "      <td>0.277457</td>\n",
       "      <td>1.578835</td>\n",
       "      <td>0.187500</td>\n",
       "      <td>10.804688</td>\n",
       "      <td>10.617188</td>\n",
       "      <td>0.113644</td>\n",
       "    </tr>\n",
       "    <tr>\n",
       "      <th>...</th>\n",
       "      <td>...</td>\n",
       "      <td>...</td>\n",
       "      <td>...</td>\n",
       "      <td>...</td>\n",
       "      <td>...</td>\n",
       "      <td>...</td>\n",
       "      <td>...</td>\n",
       "      <td>...</td>\n",
       "      <td>...</td>\n",
       "      <td>...</td>\n",
       "      <td>...</td>\n",
       "      <td>...</td>\n",
       "      <td>...</td>\n",
       "      <td>...</td>\n",
       "      <td>...</td>\n",
       "      <td>...</td>\n",
       "      <td>...</td>\n",
       "      <td>...</td>\n",
       "      <td>...</td>\n",
       "      <td>...</td>\n",
       "      <td>...</td>\n",
       "    </tr>\n",
       "    <tr>\n",
       "      <th>312</th>\n",
       "      <td>3085</td>\n",
       "      <td>0.161414</td>\n",
       "      <td>0.058721</td>\n",
       "      <td>0.168799</td>\n",
       "      <td>0.155354</td>\n",
       "      <td>0.187696</td>\n",
       "      <td>0.032343</td>\n",
       "      <td>6.983165</td>\n",
       "      <td>62.015963</td>\n",
       "      <td>0.883244</td>\n",
       "      <td>...</td>\n",
       "      <td>0.168799</td>\n",
       "      <td>0.161414</td>\n",
       "      <td>0.152409</td>\n",
       "      <td>0.018282</td>\n",
       "      <td>0.172414</td>\n",
       "      <td>0.187800</td>\n",
       "      <td>0.034180</td>\n",
       "      <td>0.683594</td>\n",
       "      <td>0.649414</td>\n",
       "      <td>0.062857</td>\n",
       "    </tr>\n",
       "    <tr>\n",
       "      <th>313</th>\n",
       "      <td>1632</td>\n",
       "      <td>0.196856</td>\n",
       "      <td>0.062991</td>\n",
       "      <td>0.214238</td>\n",
       "      <td>0.193520</td>\n",
       "      <td>0.229305</td>\n",
       "      <td>0.035785</td>\n",
       "      <td>3.540719</td>\n",
       "      <td>19.561051</td>\n",
       "      <td>0.894763</td>\n",
       "      <td>...</td>\n",
       "      <td>0.217691</td>\n",
       "      <td>0.196856</td>\n",
       "      <td>0.163254</td>\n",
       "      <td>0.016327</td>\n",
       "      <td>0.275862</td>\n",
       "      <td>0.419398</td>\n",
       "      <td>0.007812</td>\n",
       "      <td>5.289062</td>\n",
       "      <td>5.281250</td>\n",
       "      <td>0.087395</td>\n",
       "    </tr>\n",
       "    <tr>\n",
       "      <th>314</th>\n",
       "      <td>2893</td>\n",
       "      <td>0.208788</td>\n",
       "      <td>0.039871</td>\n",
       "      <td>0.200610</td>\n",
       "      <td>0.188232</td>\n",
       "      <td>0.239878</td>\n",
       "      <td>0.051646</td>\n",
       "      <td>2.429290</td>\n",
       "      <td>10.293602</td>\n",
       "      <td>0.860193</td>\n",
       "      <td>...</td>\n",
       "      <td>0.195061</td>\n",
       "      <td>0.208788</td>\n",
       "      <td>0.170176</td>\n",
       "      <td>0.047666</td>\n",
       "      <td>0.279070</td>\n",
       "      <td>1.677455</td>\n",
       "      <td>0.023438</td>\n",
       "      <td>7.125000</td>\n",
       "      <td>7.101562</td>\n",
       "      <td>0.173157</td>\n",
       "    </tr>\n",
       "    <tr>\n",
       "      <th>315</th>\n",
       "      <td>1106</td>\n",
       "      <td>0.185915</td>\n",
       "      <td>0.060364</td>\n",
       "      <td>0.197474</td>\n",
       "      <td>0.132632</td>\n",
       "      <td>0.237632</td>\n",
       "      <td>0.105000</td>\n",
       "      <td>0.905155</td>\n",
       "      <td>3.204754</td>\n",
       "      <td>0.934194</td>\n",
       "      <td>...</td>\n",
       "      <td>0.226579</td>\n",
       "      <td>0.185915</td>\n",
       "      <td>0.129221</td>\n",
       "      <td>0.046967</td>\n",
       "      <td>0.277457</td>\n",
       "      <td>1.024816</td>\n",
       "      <td>0.023438</td>\n",
       "      <td>5.320312</td>\n",
       "      <td>5.296875</td>\n",
       "      <td>0.154559</td>\n",
       "    </tr>\n",
       "    <tr>\n",
       "      <th>316</th>\n",
       "      <td>1488</td>\n",
       "      <td>0.158762</td>\n",
       "      <td>0.063993</td>\n",
       "      <td>0.164383</td>\n",
       "      <td>0.103759</td>\n",
       "      <td>0.209889</td>\n",
       "      <td>0.106130</td>\n",
       "      <td>2.310123</td>\n",
       "      <td>10.436371</td>\n",
       "      <td>0.931223</td>\n",
       "      <td>...</td>\n",
       "      <td>0.103314</td>\n",
       "      <td>0.158762</td>\n",
       "      <td>0.090384</td>\n",
       "      <td>0.016194</td>\n",
       "      <td>0.150943</td>\n",
       "      <td>0.586143</td>\n",
       "      <td>0.093750</td>\n",
       "      <td>4.937500</td>\n",
       "      <td>4.843750</td>\n",
       "      <td>0.059493</td>\n",
       "    </tr>\n",
       "  </tbody>\n",
       "</table>\n",
       "<p>317 rows × 21 columns</p>\n",
       "</div>"
      ],
      "text/plain": [
       "       Id  meanfreq        sd    median       Q25       Q75       IQR  \\\n",
       "0    2148  0.186833  0.027472  0.184325  0.173955  0.204731  0.030777   \n",
       "1    1124  0.188879  0.060316  0.195537  0.138072  0.242975  0.104904   \n",
       "2     170  0.150705  0.087127  0.174299  0.069666  0.226082  0.156416   \n",
       "3    3158  0.183667  0.040607  0.182534  0.156480  0.207646  0.051166   \n",
       "4    2229  0.205159  0.039543  0.210805  0.186667  0.228908  0.042241   \n",
       "..    ...       ...       ...       ...       ...       ...       ...   \n",
       "312  3085  0.161414  0.058721  0.168799  0.155354  0.187696  0.032343   \n",
       "313  1632  0.196856  0.062991  0.214238  0.193520  0.229305  0.035785   \n",
       "314  2893  0.208788  0.039871  0.200610  0.188232  0.239878  0.051646   \n",
       "315  1106  0.185915  0.060364  0.197474  0.132632  0.237632  0.105000   \n",
       "316  1488  0.158762  0.063993  0.164383  0.103759  0.209889  0.106130   \n",
       "\n",
       "         skew       kurt    sp.ent  ...      mode  centroid   meanfun  \\\n",
       "0    2.655225  10.565846  0.821812  ...  0.180645  0.186833  0.172790   \n",
       "1    1.497393   5.037085  0.909425  ...  0.140386  0.188879  0.133092   \n",
       "2    2.603951  22.328899  0.969287  ...  0.050181  0.150705  0.109992   \n",
       "3    2.054138   7.483019  0.898138  ...  0.177040  0.183667  0.149237   \n",
       "4    2.099683   7.562209  0.876002  ...  0.224885  0.205159  0.154736   \n",
       "..        ...        ...       ...  ...       ...       ...       ...   \n",
       "312  6.983165  62.015963  0.883244  ...  0.168799  0.161414  0.152409   \n",
       "313  3.540719  19.561051  0.894763  ...  0.217691  0.196856  0.163254   \n",
       "314  2.429290  10.293602  0.860193  ...  0.195061  0.208788  0.170176   \n",
       "315  0.905155   3.204754  0.934194  ...  0.226579  0.185915  0.129221   \n",
       "316  2.310123  10.436371  0.931223  ...  0.103314  0.158762  0.090384   \n",
       "\n",
       "       minfun    maxfun   meandom    mindom     maxdom    dfrange   modindx  \n",
       "0    0.023495  0.271186  0.178571  0.007812   0.226562   0.218750  0.108929  \n",
       "1    0.050847  0.272727  0.855938  0.023438   8.718750   8.695312  0.098712  \n",
       "2    0.017260  0.266667  1.240954  0.007812   5.562500   5.554688  0.332396  \n",
       "3    0.018648  0.262295  0.550312  0.007812   3.421875   3.414062  0.166503  \n",
       "4    0.047105  0.277457  1.578835  0.187500  10.804688  10.617188  0.113644  \n",
       "..        ...       ...       ...       ...        ...        ...       ...  \n",
       "312  0.018282  0.172414  0.187800  0.034180   0.683594   0.649414  0.062857  \n",
       "313  0.016327  0.275862  0.419398  0.007812   5.289062   5.281250  0.087395  \n",
       "314  0.047666  0.279070  1.677455  0.023438   7.125000   7.101562  0.173157  \n",
       "315  0.046967  0.277457  1.024816  0.023438   5.320312   5.296875  0.154559  \n",
       "316  0.016194  0.150943  0.586143  0.093750   4.937500   4.843750  0.059493  \n",
       "\n",
       "[317 rows x 21 columns]"
      ]
     },
     "execution_count": 30,
     "metadata": {},
     "output_type": "execute_result"
    }
   ],
   "source": [
    "df_test"
   ]
  },
  {
   "cell_type": "code",
   "execution_count": 52,
   "id": "b1334896",
   "metadata": {},
   "outputs": [],
   "source": [
    "# df.drop('post_code',axis=1,inplace=True)\n",
    "# df.drop('post_area',axis=1,inplace=True)\n",
    "\n",
    "# df['gender'].replace('Unknown',np.NaN, inplace=True)\n",
    "# df['gender'].fillna(value='Female', inplace=True)\n",
    "\n",
    "# df['gender'].replace('Female',0, inplace=True)\n",
    "# df['gender'].replace('Male',1, inplace=True)\n",
    "\n",
    "# df['self_employed'].replace('No',0, inplace=True)\n",
    "# df['self_employed'].replace('Yes',1, inplace=True)\n",
    "\n",
    "# df['self_employed_partner'].replace('No',0, inplace=True)\n",
    "# df['self_employed_partner'].replace('Yes',1, inplace=True)\n",
    "\n",
    "\n",
    "# df['children'].replace(to_replace=['Zero', '1', '2', '3', '4+'], value=[0,1, 2, 3,4], inplace=True)\n",
    "\n",
    "# df['TVarea'].replace(\n",
    "#     to_replace=['Central', 'Carlton', 'Meridian', 'Yorkshire','Granada', 'HTV','Anglia', 'Tyne Tees','Scottish TV', 'TV South West','Grampian', 'Unknown','Ulster','Border'], \n",
    "#     value=[0,1, 2, 3,4,5,6,7,8,9,10,11,12,13], \n",
    "#     inplace=True)\n",
    "\n",
    "# df['region'].replace(\n",
    "#     to_replace=['South East', 'North West', 'Unknown', 'South West','West Midlands', 'East Midlands','Scotland', 'North','Wales', 'East Anglia','Northern Ireland', 'Isle of Man','Channel Islands'], \n",
    "#     value=[0,1, 2, 3,4,5,6,7,8,9,10,11,12], \n",
    "#     inplace=True)\n",
    "\n",
    "# df['age_band'].replace(\n",
    "#     to_replace=['Unknown', '18-21', '22-25', '26-30','31-35', '36-40','41-45', '45-50','51-55', '55-60','61-65', '65-70','71+'], \n",
    "#     value=[0,1, 2, 3,4,5,6,7,8,9,10,11,12], \n",
    "#     inplace=True)\n",
    "\n",
    "# df['family_income'].replace(\n",
    "#     to_replace=['>=35,000', '<27,500, >=25,000', '<30,000, >=27,500', '<25,000, >=22,500','<12,500, >=10,000','<20,000, >=17,500','<17,500, >=15,000','<15,000, >=12,500','<22,500, >=20,000','<10,000, >= 8,000','< 8,000, >= 4,000','< 4,000','Unknown'], \n",
    "#     value=[0,1, 2, 3,4,5,6,7,8,9,10,11,12], \n",
    "#     inplace=True)\n",
    "\n",
    "# df['home_status'].replace(\n",
    "#     to_replace=['Own Home', 'Rent from Council/HA', 'Rent Privately', 'Live in Parental Hom','Unclassified'], \n",
    "#     value=[0,1, 2, 3,4], \n",
    "#     inplace=True)\n",
    "\n",
    "# df['status'].replace(\n",
    "#     to_replace=['Partner', 'Single/Never Married', 'Divorced/Separated', 'Widowed','Unknown'], \n",
    "#     value=[0,1, 2, 3,4], \n",
    "#     inplace=True)\n",
    "\n",
    "# df['occupation'].replace(\n",
    "#     to_replace=['Professional', 'Retired', 'Secretarial/Admin', 'Housewife','Business Manager','Manual Worker','Unknown','Other','Student'], \n",
    "#     value=[0,1, 2, 3,4,5,6,7,8], \n",
    "#     inplace=True)\n",
    "\n",
    "# df['occupation_partner'].replace(\n",
    "#     to_replace=['Professional', 'Retired', 'Secretarial/Admin', 'Housewife','Business Manager','Manual Worker','Unknown','Other','Student'], \n",
    "#     value=[0,1, 2, 3,4,5,6,7,8], \n",
    "#     inplace=True)\n"
   ]
  },
  {
   "cell_type": "code",
   "execution_count": 54,
   "id": "48e5f723",
   "metadata": {},
   "outputs": [],
   "source": []
  },
  {
   "cell_type": "code",
   "execution_count": 31,
   "id": "e111b715",
   "metadata": {},
   "outputs": [
    {
     "name": "stdout",
     "output_type": "stream",
     "text": [
      "<class 'pandas.core.frame.DataFrame'>\n",
      "RangeIndex: 2851 entries, 0 to 2850\n",
      "Data columns (total 22 columns):\n",
      " #   Column    Non-Null Count  Dtype  \n",
      "---  ------    --------------  -----  \n",
      " 0   Id        2851 non-null   int64  \n",
      " 1   meanfreq  2851 non-null   float64\n",
      " 2   sd        2851 non-null   float64\n",
      " 3   median    2851 non-null   float64\n",
      " 4   Q25       2851 non-null   float64\n",
      " 5   Q75       2851 non-null   float64\n",
      " 6   IQR       2851 non-null   float64\n",
      " 7   skew      2851 non-null   float64\n",
      " 8   kurt      2851 non-null   float64\n",
      " 9   sp.ent    2851 non-null   float64\n",
      " 10  sfm       2851 non-null   float64\n",
      " 11  mode      2851 non-null   float64\n",
      " 12  centroid  2851 non-null   float64\n",
      " 13  meanfun   2851 non-null   float64\n",
      " 14  minfun    2851 non-null   float64\n",
      " 15  maxfun    2851 non-null   float64\n",
      " 16  meandom   2851 non-null   float64\n",
      " 17  mindom    2851 non-null   float64\n",
      " 18  maxdom    2851 non-null   float64\n",
      " 19  dfrange   2851 non-null   float64\n",
      " 20  modindx   2851 non-null   float64\n",
      " 21  label     2851 non-null   int64  \n",
      "dtypes: float64(20), int64(2)\n",
      "memory usage: 490.1 KB\n"
     ]
    }
   ],
   "source": [
    "df.info()"
   ]
  },
  {
   "cell_type": "code",
   "execution_count": 32,
   "id": "7ee6bcce",
   "metadata": {},
   "outputs": [
    {
     "name": "stdout",
     "output_type": "stream",
     "text": [
      "<class 'pandas.core.frame.DataFrame'>\n",
      "RangeIndex: 317 entries, 0 to 316\n",
      "Data columns (total 21 columns):\n",
      " #   Column    Non-Null Count  Dtype  \n",
      "---  ------    --------------  -----  \n",
      " 0   Id        317 non-null    int64  \n",
      " 1   meanfreq  317 non-null    float64\n",
      " 2   sd        317 non-null    float64\n",
      " 3   median    317 non-null    float64\n",
      " 4   Q25       317 non-null    float64\n",
      " 5   Q75       317 non-null    float64\n",
      " 6   IQR       317 non-null    float64\n",
      " 7   skew      317 non-null    float64\n",
      " 8   kurt      317 non-null    float64\n",
      " 9   sp.ent    317 non-null    float64\n",
      " 10  sfm       317 non-null    float64\n",
      " 11  mode      317 non-null    float64\n",
      " 12  centroid  317 non-null    float64\n",
      " 13  meanfun   317 non-null    float64\n",
      " 14  minfun    317 non-null    float64\n",
      " 15  maxfun    317 non-null    float64\n",
      " 16  meandom   317 non-null    float64\n",
      " 17  mindom    317 non-null    float64\n",
      " 18  maxdom    317 non-null    float64\n",
      " 19  dfrange   317 non-null    float64\n",
      " 20  modindx   317 non-null    float64\n",
      "dtypes: float64(20), int64(1)\n",
      "memory usage: 52.1 KB\n"
     ]
    }
   ],
   "source": [
    "df_test.info()"
   ]
  },
  {
   "cell_type": "code",
   "execution_count": 33,
   "id": "b26dde9b",
   "metadata": {},
   "outputs": [
    {
     "data": {
      "text/plain": [
       "(2851, 22)"
      ]
     },
     "execution_count": 33,
     "metadata": {},
     "output_type": "execute_result"
    }
   ],
   "source": [
    "df.shape"
   ]
  },
  {
   "cell_type": "code",
   "execution_count": 34,
   "id": "e66d532b",
   "metadata": {},
   "outputs": [
    {
     "data": {
      "text/plain": [
       "(317, 21)"
      ]
     },
     "execution_count": 34,
     "metadata": {},
     "output_type": "execute_result"
    }
   ],
   "source": [
    "df_test.shape"
   ]
  },
  {
   "cell_type": "code",
   "execution_count": 35,
   "id": "b3678258",
   "metadata": {},
   "outputs": [],
   "source": [
    "X = df.drop('label',axis=1)\n",
    "y = df['label']"
   ]
  },
  {
   "cell_type": "code",
   "execution_count": 36,
   "id": "e43cb8e2",
   "metadata": {},
   "outputs": [
    {
     "data": {
      "text/plain": [
       "(2851, 21)"
      ]
     },
     "execution_count": 36,
     "metadata": {},
     "output_type": "execute_result"
    }
   ],
   "source": [
    "X.shape"
   ]
  },
  {
   "cell_type": "code",
   "execution_count": 37,
   "id": "01f463ce",
   "metadata": {},
   "outputs": [
    {
     "data": {
      "text/plain": [
       "(2851,)"
      ]
     },
     "execution_count": 37,
     "metadata": {},
     "output_type": "execute_result"
    }
   ],
   "source": [
    "y.shape"
   ]
  },
  {
   "cell_type": "code",
   "execution_count": null,
   "id": "37cf91dd",
   "metadata": {},
   "outputs": [],
   "source": [
    "# from sklearn.datasets import make_classification\n",
    "# from sklearn.linear_model import LogisticRegression\n",
    "# from sklearn.model_selection import train_test_split\n",
    "# from sklearn.pipeline import make_pipeline,Pipeline\n",
    "# from sklearn.preprocessing import StandardScaler\n",
    "\n",
    "# #X, y = make_classification(random_state=1)\n",
    "# #X_train, X_test, y_train, y_test = train_test_split(X, y, random_state=42, test_size=0.35)\n",
    "# pipe = make_pipeline(StandardScaler(), LogisticRegression(random_state=19))\n",
    "# pipe.fit(X, y)  # apply scaling on training data\n",
    "# Pipeline(steps=[('standardscaler', StandardScaler()),('logisticregression', LogisticRegression())])\n",
    "# y_test = pipe.predict(df_test)\n",
    "# pipe.score(y_test, y)  # apply scaling on testing data, without leaking training data.\n"
   ]
  },
  {
   "cell_type": "code",
   "execution_count": 38,
   "id": "b901b578",
   "metadata": {},
   "outputs": [
    {
     "name": "stderr",
     "output_type": "stream",
     "text": [
      "C:\\ProgramData\\Anaconda3\\lib\\site-packages\\sklearn\\linear_model\\_logistic.py:763: ConvergenceWarning: lbfgs failed to converge (status=1):\n",
      "STOP: TOTAL NO. of ITERATIONS REACHED LIMIT.\n",
      "\n",
      "Increase the number of iterations (max_iter) or scale the data as shown in:\n",
      "    https://scikit-learn.org/stable/modules/preprocessing.html\n",
      "Please also refer to the documentation for alternative solver options:\n",
      "    https://scikit-learn.org/stable/modules/linear_model.html#logistic-regression\n",
      "  n_iter_i = _check_optimize_result(\n"
     ]
    },
    {
     "data": {
      "text/plain": [
       "0.98105927744651"
      ]
     },
     "execution_count": 38,
     "metadata": {},
     "output_type": "execute_result"
    }
   ],
   "source": [
    "from sklearn.linear_model import LogisticRegression\n",
    "\n",
    "clf = LogisticRegression(random_state=0).fit(X, y)\n",
    "clf.predict(X[:-1])\n",
    "\n",
    "clf.score(X, y)\n"
   ]
  },
  {
   "cell_type": "code",
   "execution_count": 39,
   "id": "cf589086",
   "metadata": {},
   "outputs": [],
   "source": [
    "y_predicted = clf.predict(df_test)"
   ]
  },
  {
   "cell_type": "code",
   "execution_count": 40,
   "id": "c0a3d8b9",
   "metadata": {},
   "outputs": [
    {
     "data": {
      "text/plain": [
       "array([0, 1, 1, 0, 0, 0, 1, 1, 0, 1, 0, 0, 0, 0, 0, 0, 0, 0, 0, 1, 0, 0,\n",
       "       1, 0, 1, 0, 1, 1, 1, 1, 1, 0, 0, 1, 1, 0, 1, 1, 1, 1, 0, 1, 1, 0,\n",
       "       0, 1, 1, 0, 1, 1, 0, 1, 0, 0, 0, 1, 0, 1, 1, 0, 1, 0, 1, 0, 1, 0,\n",
       "       0, 1, 0, 1, 0, 0, 0, 1, 1, 0, 1, 1, 0, 0, 0, 1, 1, 1, 1, 1, 0, 1,\n",
       "       0, 1, 1, 0, 0, 1, 0, 1, 1, 1, 0, 0, 0, 0, 0, 1, 1, 0, 1, 1, 0, 0,\n",
       "       0, 0, 1, 0, 0, 0, 0, 0, 1, 1, 1, 0, 1, 1, 1, 1, 1, 0, 1, 1, 1, 1,\n",
       "       1, 1, 1, 1, 0, 0, 0, 0, 1, 0, 1, 1, 1, 0, 0, 0, 0, 1, 0, 0, 1, 0,\n",
       "       1, 1, 0, 0, 0, 1, 1, 1, 0, 1, 1, 1, 1, 0, 0, 0, 1, 1, 0, 1, 1, 1,\n",
       "       1, 0, 0, 0, 0, 1, 1, 1, 0, 0, 0, 0, 1, 1, 1, 1, 1, 0, 1, 1, 0, 1,\n",
       "       0, 1, 0, 0, 1, 1, 0, 0, 0, 1, 1, 1, 1, 1, 1, 0, 1, 1, 1, 0, 0, 0,\n",
       "       0, 1, 0, 0, 0, 1, 1, 1, 0, 1, 0, 1, 1, 0, 0, 1, 1, 0, 1, 0, 1, 0,\n",
       "       0, 1, 1, 0, 1, 0, 1, 1, 1, 0, 0, 1, 1, 0, 0, 0, 1, 0, 0, 0, 1, 1,\n",
       "       0, 0, 1, 1, 0, 0, 0, 0, 0, 1, 0, 1, 0, 0, 0, 1, 1, 1, 0, 1, 0, 1,\n",
       "       1, 1, 0, 0, 1, 1, 0, 1, 1, 0, 0, 0, 0, 0, 1, 0, 0, 1, 1, 1, 0, 1,\n",
       "       0, 1, 0, 1, 0, 0, 0, 1, 1], dtype=int64)"
      ]
     },
     "execution_count": 40,
     "metadata": {},
     "output_type": "execute_result"
    }
   ],
   "source": [
    "y_predicted"
   ]
  },
  {
   "cell_type": "code",
   "execution_count": 41,
   "id": "b1d3b73b",
   "metadata": {},
   "outputs": [
    {
     "data": {
      "text/html": [
       "<div>\n",
       "<style scoped>\n",
       "    .dataframe tbody tr th:only-of-type {\n",
       "        vertical-align: middle;\n",
       "    }\n",
       "\n",
       "    .dataframe tbody tr th {\n",
       "        vertical-align: top;\n",
       "    }\n",
       "\n",
       "    .dataframe thead th {\n",
       "        text-align: right;\n",
       "    }\n",
       "</style>\n",
       "<table border=\"1\" class=\"dataframe\">\n",
       "  <thead>\n",
       "    <tr style=\"text-align: right;\">\n",
       "      <th></th>\n",
       "      <th>Id</th>\n",
       "      <th>meanfreq</th>\n",
       "      <th>sd</th>\n",
       "      <th>median</th>\n",
       "      <th>Q25</th>\n",
       "      <th>Q75</th>\n",
       "      <th>IQR</th>\n",
       "      <th>skew</th>\n",
       "      <th>kurt</th>\n",
       "      <th>sp.ent</th>\n",
       "      <th>...</th>\n",
       "      <th>mode</th>\n",
       "      <th>centroid</th>\n",
       "      <th>meanfun</th>\n",
       "      <th>minfun</th>\n",
       "      <th>maxfun</th>\n",
       "      <th>meandom</th>\n",
       "      <th>mindom</th>\n",
       "      <th>maxdom</th>\n",
       "      <th>dfrange</th>\n",
       "      <th>modindx</th>\n",
       "    </tr>\n",
       "  </thead>\n",
       "  <tbody>\n",
       "    <tr>\n",
       "      <th>0</th>\n",
       "      <td>2148</td>\n",
       "      <td>0.186833</td>\n",
       "      <td>0.027472</td>\n",
       "      <td>0.184325</td>\n",
       "      <td>0.173955</td>\n",
       "      <td>0.204731</td>\n",
       "      <td>0.030777</td>\n",
       "      <td>2.655225</td>\n",
       "      <td>10.565846</td>\n",
       "      <td>0.821812</td>\n",
       "      <td>...</td>\n",
       "      <td>0.180645</td>\n",
       "      <td>0.186833</td>\n",
       "      <td>0.172790</td>\n",
       "      <td>0.023495</td>\n",
       "      <td>0.271186</td>\n",
       "      <td>0.178571</td>\n",
       "      <td>0.007812</td>\n",
       "      <td>0.226562</td>\n",
       "      <td>0.218750</td>\n",
       "      <td>0.108929</td>\n",
       "    </tr>\n",
       "    <tr>\n",
       "      <th>1</th>\n",
       "      <td>1124</td>\n",
       "      <td>0.188879</td>\n",
       "      <td>0.060316</td>\n",
       "      <td>0.195537</td>\n",
       "      <td>0.138072</td>\n",
       "      <td>0.242975</td>\n",
       "      <td>0.104904</td>\n",
       "      <td>1.497393</td>\n",
       "      <td>5.037085</td>\n",
       "      <td>0.909425</td>\n",
       "      <td>...</td>\n",
       "      <td>0.140386</td>\n",
       "      <td>0.188879</td>\n",
       "      <td>0.133092</td>\n",
       "      <td>0.050847</td>\n",
       "      <td>0.272727</td>\n",
       "      <td>0.855938</td>\n",
       "      <td>0.023438</td>\n",
       "      <td>8.718750</td>\n",
       "      <td>8.695312</td>\n",
       "      <td>0.098712</td>\n",
       "    </tr>\n",
       "    <tr>\n",
       "      <th>2</th>\n",
       "      <td>170</td>\n",
       "      <td>0.150705</td>\n",
       "      <td>0.087127</td>\n",
       "      <td>0.174299</td>\n",
       "      <td>0.069666</td>\n",
       "      <td>0.226082</td>\n",
       "      <td>0.156416</td>\n",
       "      <td>2.603951</td>\n",
       "      <td>22.328899</td>\n",
       "      <td>0.969287</td>\n",
       "      <td>...</td>\n",
       "      <td>0.050181</td>\n",
       "      <td>0.150705</td>\n",
       "      <td>0.109992</td>\n",
       "      <td>0.017260</td>\n",
       "      <td>0.266667</td>\n",
       "      <td>1.240954</td>\n",
       "      <td>0.007812</td>\n",
       "      <td>5.562500</td>\n",
       "      <td>5.554688</td>\n",
       "      <td>0.332396</td>\n",
       "    </tr>\n",
       "    <tr>\n",
       "      <th>3</th>\n",
       "      <td>3158</td>\n",
       "      <td>0.183667</td>\n",
       "      <td>0.040607</td>\n",
       "      <td>0.182534</td>\n",
       "      <td>0.156480</td>\n",
       "      <td>0.207646</td>\n",
       "      <td>0.051166</td>\n",
       "      <td>2.054138</td>\n",
       "      <td>7.483019</td>\n",
       "      <td>0.898138</td>\n",
       "      <td>...</td>\n",
       "      <td>0.177040</td>\n",
       "      <td>0.183667</td>\n",
       "      <td>0.149237</td>\n",
       "      <td>0.018648</td>\n",
       "      <td>0.262295</td>\n",
       "      <td>0.550312</td>\n",
       "      <td>0.007812</td>\n",
       "      <td>3.421875</td>\n",
       "      <td>3.414062</td>\n",
       "      <td>0.166503</td>\n",
       "    </tr>\n",
       "    <tr>\n",
       "      <th>4</th>\n",
       "      <td>2229</td>\n",
       "      <td>0.205159</td>\n",
       "      <td>0.039543</td>\n",
       "      <td>0.210805</td>\n",
       "      <td>0.186667</td>\n",
       "      <td>0.228908</td>\n",
       "      <td>0.042241</td>\n",
       "      <td>2.099683</td>\n",
       "      <td>7.562209</td>\n",
       "      <td>0.876002</td>\n",
       "      <td>...</td>\n",
       "      <td>0.224885</td>\n",
       "      <td>0.205159</td>\n",
       "      <td>0.154736</td>\n",
       "      <td>0.047105</td>\n",
       "      <td>0.277457</td>\n",
       "      <td>1.578835</td>\n",
       "      <td>0.187500</td>\n",
       "      <td>10.804688</td>\n",
       "      <td>10.617188</td>\n",
       "      <td>0.113644</td>\n",
       "    </tr>\n",
       "    <tr>\n",
       "      <th>...</th>\n",
       "      <td>...</td>\n",
       "      <td>...</td>\n",
       "      <td>...</td>\n",
       "      <td>...</td>\n",
       "      <td>...</td>\n",
       "      <td>...</td>\n",
       "      <td>...</td>\n",
       "      <td>...</td>\n",
       "      <td>...</td>\n",
       "      <td>...</td>\n",
       "      <td>...</td>\n",
       "      <td>...</td>\n",
       "      <td>...</td>\n",
       "      <td>...</td>\n",
       "      <td>...</td>\n",
       "      <td>...</td>\n",
       "      <td>...</td>\n",
       "      <td>...</td>\n",
       "      <td>...</td>\n",
       "      <td>...</td>\n",
       "      <td>...</td>\n",
       "    </tr>\n",
       "    <tr>\n",
       "      <th>312</th>\n",
       "      <td>3085</td>\n",
       "      <td>0.161414</td>\n",
       "      <td>0.058721</td>\n",
       "      <td>0.168799</td>\n",
       "      <td>0.155354</td>\n",
       "      <td>0.187696</td>\n",
       "      <td>0.032343</td>\n",
       "      <td>6.983165</td>\n",
       "      <td>62.015963</td>\n",
       "      <td>0.883244</td>\n",
       "      <td>...</td>\n",
       "      <td>0.168799</td>\n",
       "      <td>0.161414</td>\n",
       "      <td>0.152409</td>\n",
       "      <td>0.018282</td>\n",
       "      <td>0.172414</td>\n",
       "      <td>0.187800</td>\n",
       "      <td>0.034180</td>\n",
       "      <td>0.683594</td>\n",
       "      <td>0.649414</td>\n",
       "      <td>0.062857</td>\n",
       "    </tr>\n",
       "    <tr>\n",
       "      <th>313</th>\n",
       "      <td>1632</td>\n",
       "      <td>0.196856</td>\n",
       "      <td>0.062991</td>\n",
       "      <td>0.214238</td>\n",
       "      <td>0.193520</td>\n",
       "      <td>0.229305</td>\n",
       "      <td>0.035785</td>\n",
       "      <td>3.540719</td>\n",
       "      <td>19.561051</td>\n",
       "      <td>0.894763</td>\n",
       "      <td>...</td>\n",
       "      <td>0.217691</td>\n",
       "      <td>0.196856</td>\n",
       "      <td>0.163254</td>\n",
       "      <td>0.016327</td>\n",
       "      <td>0.275862</td>\n",
       "      <td>0.419398</td>\n",
       "      <td>0.007812</td>\n",
       "      <td>5.289062</td>\n",
       "      <td>5.281250</td>\n",
       "      <td>0.087395</td>\n",
       "    </tr>\n",
       "    <tr>\n",
       "      <th>314</th>\n",
       "      <td>2893</td>\n",
       "      <td>0.208788</td>\n",
       "      <td>0.039871</td>\n",
       "      <td>0.200610</td>\n",
       "      <td>0.188232</td>\n",
       "      <td>0.239878</td>\n",
       "      <td>0.051646</td>\n",
       "      <td>2.429290</td>\n",
       "      <td>10.293602</td>\n",
       "      <td>0.860193</td>\n",
       "      <td>...</td>\n",
       "      <td>0.195061</td>\n",
       "      <td>0.208788</td>\n",
       "      <td>0.170176</td>\n",
       "      <td>0.047666</td>\n",
       "      <td>0.279070</td>\n",
       "      <td>1.677455</td>\n",
       "      <td>0.023438</td>\n",
       "      <td>7.125000</td>\n",
       "      <td>7.101562</td>\n",
       "      <td>0.173157</td>\n",
       "    </tr>\n",
       "    <tr>\n",
       "      <th>315</th>\n",
       "      <td>1106</td>\n",
       "      <td>0.185915</td>\n",
       "      <td>0.060364</td>\n",
       "      <td>0.197474</td>\n",
       "      <td>0.132632</td>\n",
       "      <td>0.237632</td>\n",
       "      <td>0.105000</td>\n",
       "      <td>0.905155</td>\n",
       "      <td>3.204754</td>\n",
       "      <td>0.934194</td>\n",
       "      <td>...</td>\n",
       "      <td>0.226579</td>\n",
       "      <td>0.185915</td>\n",
       "      <td>0.129221</td>\n",
       "      <td>0.046967</td>\n",
       "      <td>0.277457</td>\n",
       "      <td>1.024816</td>\n",
       "      <td>0.023438</td>\n",
       "      <td>5.320312</td>\n",
       "      <td>5.296875</td>\n",
       "      <td>0.154559</td>\n",
       "    </tr>\n",
       "    <tr>\n",
       "      <th>316</th>\n",
       "      <td>1488</td>\n",
       "      <td>0.158762</td>\n",
       "      <td>0.063993</td>\n",
       "      <td>0.164383</td>\n",
       "      <td>0.103759</td>\n",
       "      <td>0.209889</td>\n",
       "      <td>0.106130</td>\n",
       "      <td>2.310123</td>\n",
       "      <td>10.436371</td>\n",
       "      <td>0.931223</td>\n",
       "      <td>...</td>\n",
       "      <td>0.103314</td>\n",
       "      <td>0.158762</td>\n",
       "      <td>0.090384</td>\n",
       "      <td>0.016194</td>\n",
       "      <td>0.150943</td>\n",
       "      <td>0.586143</td>\n",
       "      <td>0.093750</td>\n",
       "      <td>4.937500</td>\n",
       "      <td>4.843750</td>\n",
       "      <td>0.059493</td>\n",
       "    </tr>\n",
       "  </tbody>\n",
       "</table>\n",
       "<p>317 rows × 21 columns</p>\n",
       "</div>"
      ],
      "text/plain": [
       "       Id  meanfreq        sd    median       Q25       Q75       IQR  \\\n",
       "0    2148  0.186833  0.027472  0.184325  0.173955  0.204731  0.030777   \n",
       "1    1124  0.188879  0.060316  0.195537  0.138072  0.242975  0.104904   \n",
       "2     170  0.150705  0.087127  0.174299  0.069666  0.226082  0.156416   \n",
       "3    3158  0.183667  0.040607  0.182534  0.156480  0.207646  0.051166   \n",
       "4    2229  0.205159  0.039543  0.210805  0.186667  0.228908  0.042241   \n",
       "..    ...       ...       ...       ...       ...       ...       ...   \n",
       "312  3085  0.161414  0.058721  0.168799  0.155354  0.187696  0.032343   \n",
       "313  1632  0.196856  0.062991  0.214238  0.193520  0.229305  0.035785   \n",
       "314  2893  0.208788  0.039871  0.200610  0.188232  0.239878  0.051646   \n",
       "315  1106  0.185915  0.060364  0.197474  0.132632  0.237632  0.105000   \n",
       "316  1488  0.158762  0.063993  0.164383  0.103759  0.209889  0.106130   \n",
       "\n",
       "         skew       kurt    sp.ent  ...      mode  centroid   meanfun  \\\n",
       "0    2.655225  10.565846  0.821812  ...  0.180645  0.186833  0.172790   \n",
       "1    1.497393   5.037085  0.909425  ...  0.140386  0.188879  0.133092   \n",
       "2    2.603951  22.328899  0.969287  ...  0.050181  0.150705  0.109992   \n",
       "3    2.054138   7.483019  0.898138  ...  0.177040  0.183667  0.149237   \n",
       "4    2.099683   7.562209  0.876002  ...  0.224885  0.205159  0.154736   \n",
       "..        ...        ...       ...  ...       ...       ...       ...   \n",
       "312  6.983165  62.015963  0.883244  ...  0.168799  0.161414  0.152409   \n",
       "313  3.540719  19.561051  0.894763  ...  0.217691  0.196856  0.163254   \n",
       "314  2.429290  10.293602  0.860193  ...  0.195061  0.208788  0.170176   \n",
       "315  0.905155   3.204754  0.934194  ...  0.226579  0.185915  0.129221   \n",
       "316  2.310123  10.436371  0.931223  ...  0.103314  0.158762  0.090384   \n",
       "\n",
       "       minfun    maxfun   meandom    mindom     maxdom    dfrange   modindx  \n",
       "0    0.023495  0.271186  0.178571  0.007812   0.226562   0.218750  0.108929  \n",
       "1    0.050847  0.272727  0.855938  0.023438   8.718750   8.695312  0.098712  \n",
       "2    0.017260  0.266667  1.240954  0.007812   5.562500   5.554688  0.332396  \n",
       "3    0.018648  0.262295  0.550312  0.007812   3.421875   3.414062  0.166503  \n",
       "4    0.047105  0.277457  1.578835  0.187500  10.804688  10.617188  0.113644  \n",
       "..        ...       ...       ...       ...        ...        ...       ...  \n",
       "312  0.018282  0.172414  0.187800  0.034180   0.683594   0.649414  0.062857  \n",
       "313  0.016327  0.275862  0.419398  0.007812   5.289062   5.281250  0.087395  \n",
       "314  0.047666  0.279070  1.677455  0.023438   7.125000   7.101562  0.173157  \n",
       "315  0.046967  0.277457  1.024816  0.023438   5.320312   5.296875  0.154559  \n",
       "316  0.016194  0.150943  0.586143  0.093750   4.937500   4.843750  0.059493  \n",
       "\n",
       "[317 rows x 21 columns]"
      ]
     },
     "execution_count": 41,
     "metadata": {},
     "output_type": "execute_result"
    }
   ],
   "source": [
    "df_test"
   ]
  },
  {
   "cell_type": "code",
   "execution_count": 42,
   "id": "93389b3a",
   "metadata": {},
   "outputs": [
    {
     "data": {
      "text/plain": [
       "(317,)"
      ]
     },
     "execution_count": 42,
     "metadata": {},
     "output_type": "execute_result"
    }
   ],
   "source": [
    "sub_df = df_test['Id']\n",
    "sub_df.shape"
   ]
  },
  {
   "cell_type": "code",
   "execution_count": 43,
   "id": "b68bda34",
   "metadata": {},
   "outputs": [
    {
     "data": {
      "text/plain": [
       "(317, 1)"
      ]
     },
     "execution_count": 43,
     "metadata": {},
     "output_type": "execute_result"
    }
   ],
   "source": [
    "sub_df = pd.DataFrame(sub_df)\n",
    "sub_df.shape"
   ]
  },
  {
   "cell_type": "code",
   "execution_count": 44,
   "id": "6b1b0e4e",
   "metadata": {},
   "outputs": [
    {
     "data": {
      "text/plain": [
       "(317, 1)"
      ]
     },
     "execution_count": 44,
     "metadata": {},
     "output_type": "execute_result"
    }
   ],
   "source": [
    "y_predicted = pd.DataFrame(y_predicted)\n",
    "y_predicted.shape"
   ]
  },
  {
   "cell_type": "code",
   "execution_count": 81,
   "id": "82f65b3c",
   "metadata": {},
   "outputs": [
    {
     "data": {
      "text/html": [
       "<div>\n",
       "<style scoped>\n",
       "    .dataframe tbody tr th:only-of-type {\n",
       "        vertical-align: middle;\n",
       "    }\n",
       "\n",
       "    .dataframe tbody tr th {\n",
       "        vertical-align: top;\n",
       "    }\n",
       "\n",
       "    .dataframe thead th {\n",
       "        text-align: right;\n",
       "    }\n",
       "</style>\n",
       "<table border=\"1\" class=\"dataframe\">\n",
       "  <thead>\n",
       "    <tr style=\"text-align: right;\">\n",
       "      <th></th>\n",
       "      <th>0</th>\n",
       "    </tr>\n",
       "  </thead>\n",
       "  <tbody>\n",
       "    <tr>\n",
       "      <th>0</th>\n",
       "      <td>2</td>\n",
       "    </tr>\n",
       "    <tr>\n",
       "      <th>1</th>\n",
       "      <td>2</td>\n",
       "    </tr>\n",
       "    <tr>\n",
       "      <th>2</th>\n",
       "      <td>2</td>\n",
       "    </tr>\n",
       "    <tr>\n",
       "      <th>3</th>\n",
       "      <td>2</td>\n",
       "    </tr>\n",
       "    <tr>\n",
       "      <th>4</th>\n",
       "      <td>2</td>\n",
       "    </tr>\n",
       "    <tr>\n",
       "      <th>...</th>\n",
       "      <td>...</td>\n",
       "    </tr>\n",
       "    <tr>\n",
       "      <th>2026</th>\n",
       "      <td>2</td>\n",
       "    </tr>\n",
       "    <tr>\n",
       "      <th>2027</th>\n",
       "      <td>2</td>\n",
       "    </tr>\n",
       "    <tr>\n",
       "      <th>2028</th>\n",
       "      <td>1</td>\n",
       "    </tr>\n",
       "    <tr>\n",
       "      <th>2029</th>\n",
       "      <td>1</td>\n",
       "    </tr>\n",
       "    <tr>\n",
       "      <th>2030</th>\n",
       "      <td>2</td>\n",
       "    </tr>\n",
       "  </tbody>\n",
       "</table>\n",
       "<p>2031 rows × 1 columns</p>\n",
       "</div>"
      ],
      "text/plain": [
       "      0\n",
       "0     2\n",
       "1     2\n",
       "2     2\n",
       "3     2\n",
       "4     2\n",
       "...  ..\n",
       "2026  2\n",
       "2027  2\n",
       "2028  1\n",
       "2029  1\n",
       "2030  2\n",
       "\n",
       "[2031 rows x 1 columns]"
      ]
     },
     "execution_count": 81,
     "metadata": {},
     "output_type": "execute_result"
    }
   ],
   "source": [
    "y_predicted"
   ]
  },
  {
   "cell_type": "code",
   "execution_count": 45,
   "id": "f03df30e",
   "metadata": {},
   "outputs": [],
   "source": [
    "submit_df = pd.concat([sub_df,y_predicted],axis=1)"
   ]
  },
  {
   "cell_type": "code",
   "execution_count": 46,
   "id": "0748beaa",
   "metadata": {},
   "outputs": [
    {
     "data": {
      "text/plain": [
       "(317, 2)"
      ]
     },
     "execution_count": 46,
     "metadata": {},
     "output_type": "execute_result"
    }
   ],
   "source": [
    "submit_df.shape"
   ]
  },
  {
   "cell_type": "code",
   "execution_count": 47,
   "id": "3b4c2c13",
   "metadata": {},
   "outputs": [
    {
     "data": {
      "text/plain": [
       "1    161\n",
       "0    156\n",
       "Name: 0, dtype: int64"
      ]
     },
     "execution_count": 47,
     "metadata": {},
     "output_type": "execute_result"
    }
   ],
   "source": [
    "submit_df[0].value_counts()"
   ]
  },
  {
   "cell_type": "code",
   "execution_count": 48,
   "id": "3dc7239a",
   "metadata": {},
   "outputs": [],
   "source": [
    "submit_df.to_csv('submission.csv', index=False, header=False)"
   ]
  },
  {
   "cell_type": "code",
   "execution_count": 110,
   "id": "33959c47",
   "metadata": {},
   "outputs": [],
   "source": [
    "testdf = df[['Investment_in_Mutual_Fund','Revenue_Grid']]"
   ]
  },
  {
   "cell_type": "code",
   "execution_count": 111,
   "id": "4022c0aa",
   "metadata": {},
   "outputs": [
    {
     "data": {
      "text/html": [
       "<div>\n",
       "<style scoped>\n",
       "    .dataframe tbody tr th:only-of-type {\n",
       "        vertical-align: middle;\n",
       "    }\n",
       "\n",
       "    .dataframe tbody tr th {\n",
       "        vertical-align: top;\n",
       "    }\n",
       "\n",
       "    .dataframe thead th {\n",
       "        text-align: right;\n",
       "    }\n",
       "</style>\n",
       "<table border=\"1\" class=\"dataframe\">\n",
       "  <thead>\n",
       "    <tr style=\"text-align: right;\">\n",
       "      <th></th>\n",
       "      <th>Investment_in_Mutual_Fund</th>\n",
       "    </tr>\n",
       "    <tr>\n",
       "      <th>Revenue_Grid</th>\n",
       "      <th></th>\n",
       "    </tr>\n",
       "  </thead>\n",
       "  <tbody>\n",
       "    <tr>\n",
       "      <th>1</th>\n",
       "      <td>53594.73</td>\n",
       "    </tr>\n",
       "    <tr>\n",
       "      <th>2</th>\n",
       "      <td>285368.02</td>\n",
       "    </tr>\n",
       "  </tbody>\n",
       "</table>\n",
       "</div>"
      ],
      "text/plain": [
       "              Investment_in_Mutual_Fund\n",
       "Revenue_Grid                           \n",
       "1                              53594.73\n",
       "2                             285368.02"
      ]
     },
     "execution_count": 111,
     "metadata": {},
     "output_type": "execute_result"
    }
   ],
   "source": [
    "testdf.groupby(['Revenue_Grid']).sum()"
   ]
  },
  {
   "cell_type": "code",
   "execution_count": null,
   "id": "1a3a23e9",
   "metadata": {},
   "outputs": [],
   "source": []
  }
 ],
 "metadata": {
  "kernelspec": {
   "display_name": "Python 3",
   "language": "python",
   "name": "python3"
  },
  "language_info": {
   "codemirror_mode": {
    "name": "ipython",
    "version": 3
   },
   "file_extension": ".py",
   "mimetype": "text/x-python",
   "name": "python",
   "nbconvert_exporter": "python",
   "pygments_lexer": "ipython3",
   "version": "3.8.8"
  }
 },
 "nbformat": 4,
 "nbformat_minor": 5
}
